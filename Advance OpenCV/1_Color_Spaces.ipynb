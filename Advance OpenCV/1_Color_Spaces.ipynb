{
 "cells": [
  {
   "cell_type": "markdown",
   "id": "dde265ea-dfeb-49d0-a37c-91fdd84491fe",
   "metadata": {},
   "source": [
    "## Color Spaces\n",
    "    OpenCV Default color space is BGR and Matplotlib Default color space is RGB"
   ]
  },
  {
   "cell_type": "code",
   "execution_count": 1,
   "id": "cfe30f40-3b8c-4c80-a30d-2fbccf2731b2",
   "metadata": {},
   "outputs": [],
   "source": [
    "import cv2 as cv\n",
    "import numpy as np"
   ]
  },
  {
   "cell_type": "code",
   "execution_count": 8,
   "id": "0d9c340f-1884-4ac0-acf1-cf61bb6d5919",
   "metadata": {},
   "outputs": [],
   "source": [
    "# load image\n",
    "img = cv.imread('../Resources/Photos/park.jpg')\n",
    "\n",
    "# Display image\n",
    "cv.imshow('IMG', img)\n",
    "\n",
    "# wait and destroy\n",
    "cv.waitKey(0)\n",
    "cv.destroyAllWindows()"
   ]
  },
  {
   "cell_type": "markdown",
   "id": "8d1f9cc0-1e91-4302-b22d-e5c8bc258e0e",
   "metadata": {},
   "source": [
    "## 1. BGR to Gray"
   ]
  },
  {
   "cell_type": "code",
   "execution_count": 5,
   "id": "76784f03-fa7f-43f0-9235-34164daab769",
   "metadata": {},
   "outputs": [],
   "source": [
    "gray = cv.cvtColor(img, cv.COLOR_BGR2GRAY)\n",
    "cv.imshow('Gray', gray)\n",
    "\n",
    "# wait and destroy\n",
    "cv.waitKey(0)\n",
    "cv.destroyAllWindows()"
   ]
  },
  {
   "cell_type": "markdown",
   "id": "c2e0a5cc-ccf8-4590-802f-817e8873ec53",
   "metadata": {},
   "source": [
    "## 2. BGR to HSV"
   ]
  },
  {
   "cell_type": "code",
   "execution_count": 13,
   "id": "8075a8a6-8c7f-4560-b5f9-798b07db657d",
   "metadata": {},
   "outputs": [],
   "source": [
    "hsv = cv.cvtColor(img, cv.COLOR_BGR2HSV)\n",
    "cv.imshow('HSV', hsv)\n",
    "\n",
    "# wait and destroy\n",
    "cv.waitKey(0)\n",
    "cv.destroyAllWindows()"
   ]
  },
  {
   "cell_type": "markdown",
   "id": "75100345-bdcb-46d9-8fe5-bcb5a3a7f85a",
   "metadata": {},
   "source": [
    "## 2.1 HSV to BGR"
   ]
  },
  {
   "cell_type": "code",
   "execution_count": 14,
   "id": "46e84052-7ef8-476b-8276-a6b8dcd51ecb",
   "metadata": {},
   "outputs": [],
   "source": [
    "hsv_bgr = cv.cvtColor(hsv, cv.COLOR_HSV2BGR)\n",
    "cv.imshow('hsv_bgr', hsv_bgr)\n",
    "\n",
    "# wait and destroy\n",
    "cv.waitKey(0)\n",
    "cv.destroyAllWindows()"
   ]
  },
  {
   "cell_type": "markdown",
   "id": "bf4301f2-b727-4db5-9b64-fa24c8272dec",
   "metadata": {},
   "source": [
    "## 3. BGR TO LAB"
   ]
  },
  {
   "cell_type": "code",
   "execution_count": 10,
   "id": "b5aed8b2-925c-4f82-8d56-7e7ef8c6719f",
   "metadata": {},
   "outputs": [],
   "source": [
    "lab = cv.cvtColor(img, cv.COLOR_BGR2Lab)\n",
    "cv.imshow('lab', lab)\n",
    "\n",
    "# Wait and Destroy\n",
    "cv.waitKey(0)\n",
    "cv.destroyAllWindows()"
   ]
  },
  {
   "cell_type": "markdown",
   "id": "69dae818-337e-4ea8-9a05-ed3f6a5549a1",
   "metadata": {},
   "source": [
    "## 4. BGR To RGB"
   ]
  },
  {
   "cell_type": "code",
   "execution_count": 12,
   "id": "64aa78bd-d071-41d8-99bd-f85c633e0f71",
   "metadata": {},
   "outputs": [],
   "source": [
    "rgb = cv.cvtColor(img, cv.COLOR_BGR2RGB)\n",
    "cv.imshow('rgb', rgb)\n",
    "\n",
    "# Wait and Destroy\n",
    "cv.waitKey(0)\n",
    "cv.destroyAllWindows()"
   ]
  },
  {
   "cell_type": "code",
   "execution_count": null,
   "id": "8bce6d85-8bc4-4337-b58b-c17deaf77d7d",
   "metadata": {},
   "outputs": [],
   "source": []
  }
 ],
 "metadata": {
  "kernelspec": {
   "display_name": "Python 3 (ipykernel)",
   "language": "python",
   "name": "python3"
  },
  "language_info": {
   "codemirror_mode": {
    "name": "ipython",
    "version": 3
   },
   "file_extension": ".py",
   "mimetype": "text/x-python",
   "name": "python",
   "nbconvert_exporter": "python",
   "pygments_lexer": "ipython3",
   "version": "3.11.10"
  }
 },
 "nbformat": 4,
 "nbformat_minor": 5
}
