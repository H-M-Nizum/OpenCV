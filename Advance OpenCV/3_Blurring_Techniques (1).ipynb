{
 "cells": [
  {
   "cell_type": "markdown",
   "id": "c743a398-bb44-4ef4-9525-2c9d83f62beb",
   "metadata": {},
   "source": [
    "# Blurring Techniques"
   ]
  },
  {
   "cell_type": "markdown",
   "id": "5f073d09-b94d-47c4-ba68-ae13625386e2",
   "metadata": {},
   "source": [
    " We generally smoot an image when it's tend to have a lot of noise.\n",
    " We can reduces some noise applying blurring techniques."
   ]
  },
  {
   "cell_type": "code",
   "execution_count": 3,
   "id": "c4c9dd90-8a0e-4c0c-815c-7158a763a925",
   "metadata": {},
   "outputs": [],
   "source": [
    "import cv2 as cv\n",
    "import numpy as np"
   ]
  },
  {
   "cell_type": "code",
   "execution_count": 4,
   "id": "030b6459-9626-4a47-85b3-91aee9296079",
   "metadata": {},
   "outputs": [],
   "source": [
    "# load image\n",
    "img = cv.imread('../Resources/Photos/cats.jpg')\n",
    "\n",
    "# Display image\n",
    "cv.imshow('IMG', img)\n",
    "\n",
    "# wait and destroy\n",
    "cv.waitKey(0)\n",
    "cv.destroyAllWindows()"
   ]
  },
  {
   "cell_type": "markdown",
   "id": "421a9236-3b1c-4449-90e4-7fdfe62ab6e0",
   "metadata": {},
   "source": [
    "### 1. Applying Averaging Method"
   ]
  },
  {
   "cell_type": "code",
   "execution_count": 7,
   "id": "923c2a53-4a5a-4236-b856-d9a5e7b04eb3",
   "metadata": {},
   "outputs": [],
   "source": [
    "# Averaging Method\n",
    "average = cv.blur(img, (7,7))\n",
    "cv.imshow('Average Blur Image', average)\n",
    "\n",
    "# Gaussian Method -> sigmaX = 0\n",
    "gauss = cv.GaussianBlur(img, (7, 7), 0)\n",
    "cv.imshow(\"Gaussian Blur Image\", gauss)\n",
    "\n",
    "# Median Blur Method\n",
    "median = cv.medianBlur(img, 7)\n",
    "cv.imshow(\"Median Blur\", median)\n",
    "\n",
    "# wait and destroy\n",
    "cv.waitKey(0)\n",
    "cv.destroyAllWindows()"
   ]
  },
  {
   "cell_type": "code",
   "execution_count": 11,
   "id": "2bd2f155-7a52-4719-aa05-9baef4a8cf60",
   "metadata": {},
   "outputs": [],
   "source": [
    "## Using (3,3)\n",
    "\n",
    "# Averaging Method\n",
    "average = cv.blur(img, (3,3))\n",
    "cv.imshow('Average Blur Image', average)\n",
    "\n",
    "# Gaussian Method -> sigmaX = 0\n",
    "gauss = cv.GaussianBlur(img, (3,3), 0)\n",
    "cv.imshow(\"Gaussian Blur Image\", gauss)\n",
    "\n",
    "# Median Blur Method\n",
    "median = cv.medianBlur(img, 3)\n",
    "cv.imshow(\"Median Blur\", median)\n",
    "\n",
    "# Bilateral Method  --> d=5, sigmacolor=15, sigmaspace=15\n",
    "bilateral = cv.bilateralFilter(img, 5, 15, 15)\n",
    "cv.imshow(\"Bilateral Image\", bilateral)\n",
    "\n",
    "# wait and destroy\n",
    "cv.waitKey(0)\n",
    "cv.destroyAllWindows()"
   ]
  },
  {
   "cell_type": "code",
   "execution_count": null,
   "id": "6a024f9c-399f-4a33-8109-d3152dcb8e2f",
   "metadata": {},
   "outputs": [],
   "source": []
  },
  {
   "cell_type": "code",
   "execution_count": null,
   "id": "9ebe6669-8660-418e-b21a-673b9b76c6f0",
   "metadata": {},
   "outputs": [],
   "source": []
  }
 ],
 "metadata": {
  "kernelspec": {
   "display_name": "Python 3 (ipykernel)",
   "language": "python",
   "name": "python3"
  },
  "language_info": {
   "codemirror_mode": {
    "name": "ipython",
    "version": 3
   },
   "file_extension": ".py",
   "mimetype": "text/x-python",
   "name": "python",
   "nbconvert_exporter": "python",
   "pygments_lexer": "ipython3",
   "version": "3.11.10"
  }
 },
 "nbformat": 4,
 "nbformat_minor": 5
}
