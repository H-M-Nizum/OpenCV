{
 "cells": [
  {
   "cell_type": "markdown",
   "id": "c58a7f82-7e1d-4734-b922-ebc9cb065c90",
   "metadata": {},
   "source": [
    "# Bitwise Operations"
   ]
  },
  {
   "cell_type": "code",
   "execution_count": 1,
   "id": "9a31eb41-c2df-4e26-9767-19fc38c1648f",
   "metadata": {},
   "outputs": [],
   "source": [
    "import cv2 as cv\n",
    "import numpy as np"
   ]
  },
  {
   "cell_type": "code",
   "execution_count": 2,
   "id": "2a4fce61-4020-4ceb-a723-bb4f11dcc26f",
   "metadata": {},
   "outputs": [],
   "source": [
    "# load image\n",
    "img = cv.imread('../Resources/Photos/cats.jpg')\n",
    "\n",
    "# Display image\n",
    "cv.imshow('IMG', img)\n",
    "\n",
    "# wait and destroy\n",
    "cv.waitKey(0)\n",
    "cv.destroyAllWindows()"
   ]
  },
  {
   "cell_type": "markdown",
   "id": "d8a6fbf1-a85e-4715-acd3-431552b7b34b",
   "metadata": {},
   "source": [
    "### 1. Images Draw rectangle and circle"
   ]
  },
  {
   "cell_type": "code",
   "execution_count": 7,
   "id": "62ddedf4-edb1-440a-aa2e-5e4d8431032d",
   "metadata": {},
   "outputs": [],
   "source": [
    "blank = np.zeros((400, 400), dtype='uint8')\n",
    "cv.imshow('Blank', blank)\n",
    "\n",
    "# Rectangle\n",
    "rectangle = cv.rectangle(blank.copy(), (30, 30), (370, 370), 255, -1)\n",
    "cv.imshow(\"Rectangle\", rectangle)\n",
    "\n",
    "# Circle\n",
    "circle = cv.circle(blank.copy(), (200, 200), 200, 255, -1)\n",
    "cv.imshow(\"Circle\", circle)\n",
    "\n",
    "# wait and destroy\n",
    "cv.waitKey(0)\n",
    "cv.destroyAllWindows()"
   ]
  },
  {
   "cell_type": "markdown",
   "id": "3c0fe40d-e75e-4eac-99b4-52b6635ba604",
   "metadata": {},
   "source": [
    "### 2. Bitwise AND\n",
    "    Return Intersecting regions"
   ]
  },
  {
   "cell_type": "code",
   "execution_count": 8,
   "id": "932f855a-6ed0-4527-89e9-8d4dd0003fd7",
   "metadata": {},
   "outputs": [],
   "source": [
    "bitwise_and = cv.bitwise_and(rectangle, circle)\n",
    "cv.imshow(\"Bitwise AND\", bitwise_and)\n",
    "\n",
    "# wait and destroy\n",
    "cv.waitKey(0)\n",
    "cv.destroyAllWindows()"
   ]
  },
  {
   "cell_type": "markdown",
   "id": "abdbf3b8-f9f6-4564-89b0-f53d8a464fc2",
   "metadata": {},
   "source": [
    "### 3. Bitwise OR\n",
    "    Return Intersecting regions and Non Intersecting regions"
   ]
  },
  {
   "cell_type": "code",
   "execution_count": 9,
   "id": "1a61bea8-22f5-4f7a-98e3-c183cf256956",
   "metadata": {},
   "outputs": [],
   "source": [
    "bitwise_or = cv.bitwise_or(rectangle, circle)\n",
    "cv.imshow(\"Bitwise OR\", bitwise_or)\n",
    "\n",
    "# wait and destroy\n",
    "cv.waitKey(0)\n",
    "cv.destroyAllWindows()"
   ]
  },
  {
   "cell_type": "markdown",
   "id": "87b4a383-e9b5-473d-b23f-cc835167d1e6",
   "metadata": {},
   "source": [
    "### 3. Bitwise XOR\n",
    "    Return Non Intersecting regions"
   ]
  },
  {
   "cell_type": "code",
   "execution_count": 10,
   "id": "b2c0e5f1-66c1-48b1-9cc8-6a8c21289a5d",
   "metadata": {},
   "outputs": [],
   "source": [
    "bitwise_xor = cv.bitwise_xor(rectangle, circle)\n",
    "cv.imshow(\"Bitwise XOR\", bitwise_xor)\n",
    "\n",
    "# wait and destroy\n",
    "cv.waitKey(0)\n",
    "cv.destroyAllWindows()"
   ]
  },
  {
   "cell_type": "markdown",
   "id": "70ba27e4-aec8-4c8c-a814-4b0090869484",
   "metadata": {},
   "source": [
    "### 3. Bitwise NOR\n",
    "    Return Non Intersecting regions for a single image"
   ]
  },
  {
   "cell_type": "code",
   "execution_count": 12,
   "id": "f37ec597-4b7b-47c3-b2e6-774ecde8f47e",
   "metadata": {},
   "outputs": [],
   "source": [
    "bitwise_nor_rectangle = cv.bitwise_not(rectangle)\n",
    "cv.imshow(\"Bitwise NOR Rectangle\", bitwise_nor_rectangle)\n",
    "\n",
    "bitwise_nor_circle = cv.bitwise_not(circle)\n",
    "cv.imshow(\"Bitwise NOR Circle\", bitwise_nor_circle)\n",
    "\n",
    "# wait and destroy\n",
    "cv.waitKey(0)\n",
    "cv.destroyAllWindows()"
   ]
  },
  {
   "cell_type": "code",
   "execution_count": null,
   "id": "fb12901d-74a4-4fc4-add5-ebaad85e2cc5",
   "metadata": {},
   "outputs": [],
   "source": []
  }
 ],
 "metadata": {
  "kernelspec": {
   "display_name": "Python 3 (ipykernel)",
   "language": "python",
   "name": "python3"
  },
  "language_info": {
   "codemirror_mode": {
    "name": "ipython",
    "version": 3
   },
   "file_extension": ".py",
   "mimetype": "text/x-python",
   "name": "python",
   "nbconvert_exporter": "python",
   "pygments_lexer": "ipython3",
   "version": "3.11.10"
  }
 },
 "nbformat": 4,
 "nbformat_minor": 5
}
