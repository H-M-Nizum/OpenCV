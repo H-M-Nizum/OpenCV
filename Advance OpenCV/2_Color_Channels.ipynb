{
 "cells": [
  {
   "cell_type": "markdown",
   "id": "485b8590-b818-4f3f-b1c2-090dcd4e8422",
   "metadata": {},
   "source": [
    "# Color Channels"
   ]
  },
  {
   "cell_type": "code",
   "execution_count": 2,
   "id": "0176a122-f3b0-4d53-ab77-7b4c76cae270",
   "metadata": {},
   "outputs": [],
   "source": [
    "import cv2 as cv\n",
    "import numpy as np"
   ]
  },
  {
   "cell_type": "code",
   "execution_count": 3,
   "id": "0a567bbf-dc93-4746-a1b7-c3a8ada48e47",
   "metadata": {},
   "outputs": [],
   "source": [
    "img = cv.imread('../Resources/Photos/park.jpg')\n",
    "cv.imshow('Img', img)\n",
    "\n",
    "cv.waitKey(0)\n",
    "cv.destroyAllWindows()"
   ]
  },
  {
   "cell_type": "markdown",
   "id": "2cf439ce-020c-4c6b-b3f1-4d436d807900",
   "metadata": {},
   "source": [
    "### 1. Split"
   ]
  },
  {
   "cell_type": "code",
   "execution_count": 7,
   "id": "0c5f8260-a305-4113-84eb-85977748d723",
   "metadata": {},
   "outputs": [
    {
     "name": "stdout",
     "output_type": "stream",
     "text": [
      "img :  [[[210 152 103]\n",
      "  [210 152 103]\n",
      "  [210 152 103]\n",
      "  ...\n",
      "  [212 142  82]\n",
      "  [212 142  83]\n",
      "  [212 142  83]]\n",
      "\n",
      " [[210 152 103]\n",
      "  [210 152 103]\n",
      "  [210 152 103]\n",
      "  ...\n",
      "  [212 142  82]\n",
      "  [212 142  83]\n",
      "  [212 142  83]]\n",
      "\n",
      " [[210 151 105]\n",
      "  [210 151 105]\n",
      "  [210 151 105]\n",
      "  ...\n",
      "  [211 141  81]\n",
      "  [211 141  81]\n",
      "  [211 141  81]]\n",
      "\n",
      " ...\n",
      "\n",
      " [[ 23  41  48]\n",
      "  [ 30  46  53]\n",
      "  [ 21  34  42]\n",
      "  ...\n",
      "  [ 75 101 117]\n",
      "  [ 67  93 110]\n",
      "  [ 55  83 100]]\n",
      "\n",
      " [[ 25  43  50]\n",
      "  [ 23  39  46]\n",
      "  [  5  17  27]\n",
      "  ...\n",
      "  [ 62  88 102]\n",
      "  [ 48  75  89]\n",
      "  [ 38  65  79]]\n",
      "\n",
      " [[ 26  45  50]\n",
      "  [ 24  40  46]\n",
      "  [ 12  23  31]\n",
      "  ...\n",
      "  [ 49  75  87]\n",
      "  [ 33  59  71]\n",
      "  [ 25  51  63]]]\n",
      "red :  [[210 210 210 ... 212 212 212]\n",
      " [210 210 210 ... 212 212 212]\n",
      " [210 210 210 ... 211 211 211]\n",
      " ...\n",
      " [ 23  30  21 ...  75  67  55]\n",
      " [ 25  23   5 ...  62  48  38]\n",
      " [ 26  24  12 ...  49  33  25]]\n",
      "green :  [[152 152 152 ... 142 142 142]\n",
      " [152 152 152 ... 142 142 142]\n",
      " [151 151 151 ... 141 141 141]\n",
      " ...\n",
      " [ 41  46  34 ... 101  93  83]\n",
      " [ 43  39  17 ...  88  75  65]\n",
      " [ 45  40  23 ...  75  59  51]]\n",
      "blue :  [[103 103 103 ...  82  83  83]\n",
      " [103 103 103 ...  82  83  83]\n",
      " [105 105 105 ...  81  81  81]\n",
      " ...\n",
      " [ 48  53  42 ... 117 110 100]\n",
      " [ 50  46  27 ... 102  89  79]\n",
      " [ 50  46  31 ...  87  71  63]]\n"
     ]
    }
   ],
   "source": [
    "img = cv.imread('../Resources/Photos/park.jpg')\n",
    "cv.imshow('Img', img)\n",
    "\n",
    "# split image\n",
    "# cv dot split bassically split the image into red, green and blue.\n",
    "r, g, b = cv.split(img)\n",
    "cv.imshow(\"red\", r)\n",
    "cv.imshow(\"green\", g)\n",
    "cv.imshow(\"blue\", b)\n",
    "\n",
    "# print shape\n",
    "print(\"img : \", img)\n",
    "print(\"red : \", r)\n",
    "print(\"green : \", g)\n",
    "print(\"blue : \", b)\n",
    "\n",
    "cv.waitKey(0)\n",
    "cv.destroyAllWindows()"
   ]
  },
  {
   "cell_type": "markdown",
   "id": "0b00c62b-6fb8-4141-9a3f-fa27965c5a55",
   "metadata": {},
   "source": [
    "### 2. Marged the Three Color image together"
   ]
  },
  {
   "cell_type": "code",
   "execution_count": 11,
   "id": "8fd42b22-f792-48b6-970c-1b6bb4938bc0",
   "metadata": {},
   "outputs": [],
   "source": [
    "merged = cv.merge((r, g, b))\n",
    "cv.imshow(\"Merged Image\", merged)\n",
    "\n",
    "cv.waitKey(0)\n",
    "cv.destroyAllWindows()"
   ]
  },
  {
   "cell_type": "markdown",
   "id": "92762b71-408f-48bb-9a4d-3f205ea69a9a",
   "metadata": {},
   "source": [
    "### 3. Blue, Green and Red images"
   ]
  },
  {
   "cell_type": "code",
   "execution_count": 14,
   "id": "719f00d0-f030-441e-9842-26309c3c0017",
   "metadata": {},
   "outputs": [],
   "source": [
    "# Blank image\n",
    "blank = np.zeros(img.shape[:2], dtype='uint8')\n",
    "cv.imshow(\"Blank\", blank)\n",
    "\n",
    "cv.waitKey(0)\n",
    "cv.destroyAllWindows()"
   ]
  },
  {
   "cell_type": "code",
   "execution_count": 15,
   "id": "1e3fe163-16a3-4404-9e34-95908a679eda",
   "metadata": {},
   "outputs": [],
   "source": [
    "blue = cv.merge((b, blank, blank))\n",
    "green = cv.merge((blank, g, blank))\n",
    "red = cv.merge((blank, blank, r))\n",
    "\n",
    "cv.imshow(\"Blue Image\", blue)\n",
    "cv.imshow(\"Green Image\", green)\n",
    "cv.imshow(\"Red Image\", red)\n",
    "\n",
    "cv.waitKey(0)\n",
    "cv.destroyAllWindows()"
   ]
  },
  {
   "cell_type": "code",
   "execution_count": null,
   "id": "57df55e9-e268-469f-9431-c5f6354be85c",
   "metadata": {},
   "outputs": [],
   "source": []
  }
 ],
 "metadata": {
  "kernelspec": {
   "display_name": "Python 3 (ipykernel)",
   "language": "python",
   "name": "python3"
  },
  "language_info": {
   "codemirror_mode": {
    "name": "ipython",
    "version": 3
   },
   "file_extension": ".py",
   "mimetype": "text/x-python",
   "name": "python",
   "nbconvert_exporter": "python",
   "pygments_lexer": "ipython3",
   "version": "3.11.10"
  }
 },
 "nbformat": 4,
 "nbformat_minor": 5
}
