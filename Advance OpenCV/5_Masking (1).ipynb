{
 "cells": [
  {
   "cell_type": "markdown",
   "id": "161be13d-d562-45ad-8949-bf3a133e865c",
   "metadata": {},
   "source": [
    "# Masking"
   ]
  },
  {
   "cell_type": "code",
   "execution_count": 2,
   "id": "36a4d536-7b4a-4801-a71f-3471356a18f1",
   "metadata": {},
   "outputs": [],
   "source": [
    "import cv2 as cv\n",
    "import numpy as np"
   ]
  },
  {
   "cell_type": "code",
   "execution_count": 3,
   "id": "5937cbbc-2e00-4c37-a400-19e565d04fab",
   "metadata": {},
   "outputs": [],
   "source": [
    "# load image\n",
    "img = cv.imread('../Resources/Photos/cats.jpg')\n",
    "\n",
    "# Display image\n",
    "cv.imshow('IMG', img)\n",
    "\n",
    "# wait and destroy\n",
    "cv.waitKey(0)\n",
    "cv.destroyAllWindows()"
   ]
  },
  {
   "cell_type": "markdown",
   "id": "c8b7d126-6d33-4d01-a722-7763cb601993",
   "metadata": {},
   "source": [
    "### 1. Blank Image"
   ]
  },
  {
   "cell_type": "code",
   "execution_count": 4,
   "id": "a7b1ee27-cc63-4ad6-8b12-9d13638e184e",
   "metadata": {},
   "outputs": [],
   "source": [
    "blank = np.zeros(img.shape[:2], dtype='uint8')\n",
    "cv.imshow('Blank Image', blank)\n",
    "\n",
    "# wait and destroy\n",
    "cv.waitKey(0)\n",
    "cv.destroyAllWindows()"
   ]
  },
  {
   "cell_type": "markdown",
   "id": "f5cb0cda-a37e-4301-9b63-0b31b216fe75",
   "metadata": {},
   "source": [
    "### 2. Create a mask"
   ]
  },
  {
   "cell_type": "code",
   "execution_count": 7,
   "id": "269c7557-8053-4c92-a88f-626ca6568102",
   "metadata": {},
   "outputs": [],
   "source": [
    "mask = cv.circle(blank.copy(), (img.shape[1]//2 + 45,img.shape[0]//2), 100, 255, -1)\n",
    "cv.imshow('Mask Image', mask)\n",
    "\n",
    "masked = cv.bitwise_and(img, img, mask=mask)\n",
    "cv.imshow('Masked Image', masked)\n",
    "\n",
    "# wait and destroy\n",
    "cv.waitKey(0)\n",
    "cv.destroyAllWindows()"
   ]
  },
  {
   "cell_type": "code",
   "execution_count": null,
   "id": "c0140b48-8202-4629-b647-2d1c840af473",
   "metadata": {},
   "outputs": [],
   "source": []
  }
 ],
 "metadata": {
  "kernelspec": {
   "display_name": "Python 3 (ipykernel)",
   "language": "python",
   "name": "python3"
  },
  "language_info": {
   "codemirror_mode": {
    "name": "ipython",
    "version": 3
   },
   "file_extension": ".py",
   "mimetype": "text/x-python",
   "name": "python",
   "nbconvert_exporter": "python",
   "pygments_lexer": "ipython3",
   "version": "3.11.10"
  }
 },
 "nbformat": 4,
 "nbformat_minor": 5
}
