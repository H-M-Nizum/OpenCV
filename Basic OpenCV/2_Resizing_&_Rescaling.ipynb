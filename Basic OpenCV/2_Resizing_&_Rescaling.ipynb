{
 "cells": [
  {
   "cell_type": "code",
   "execution_count": 3,
   "id": "d92aa56b-aa43-4e22-a978-cbb64ddf3643",
   "metadata": {},
   "outputs": [
    {
     "name": "stdout",
     "output_type": "stream",
     "text": [
      "Error: Could not read frame or end of video.\n"
     ]
    }
   ],
   "source": [
    "import cv2 as cv\n",
    "\n",
    "capture = cv.VideoCapture('../Resources/Videos/dog.mp4')\n",
    "\n",
    "\n",
    "#############################################################################################################\n",
    "def rescaleframe(frame, scale=.75):       # Image, Video and Live Video\n",
    "    weight = int(frame.shape[1] * scale)\n",
    "    height = int(frame.shape[0] * scale)\n",
    "\n",
    "    dimensions = (weight, height)\n",
    "\n",
    "    return cv.resize(frame, dimensions, interpolation=cv.INTER_AREA)\n",
    "\n",
    "\n",
    "def changeres(weight, height):    # Live video\n",
    "    capture.set(3, weight)\n",
    "    capture.set(4, height)\n",
    "    # 3 refer weight, 4 refer height\n",
    "\n",
    "img = cv.imread('../Resources/Photos/cat.jpg')\n",
    "cv.imshow('Cat', img)\n",
    "resize_img = rescaleframe(img, scale=.75)\n",
    "cv.imshow('Resize Image', resize_img)\n",
    "\n",
    "\n",
    "#############################################################################################################\n",
    "\n",
    "while True:\n",
    "    isTrue, frame = capture.read()\n",
    "    \n",
    "    # Check if frame is valid\n",
    "    if not isTrue or frame is None:\n",
    "        print(\"Error: Could not read frame or end of video.\")\n",
    "        break\n",
    "\n",
    "    resized_frame = rescaleframe(frame, scale=.75)\n",
    "    if isTrue:\n",
    "        cv.imshow('frame', frame)\n",
    "        cv.imshow('resized_frame', resized_frame)\n",
    "        if cv.waitKey(20) & 0xFF==ord('d'):\n",
    "            break\n",
    "    else:\n",
    "        break\n",
    "capture.release()\n",
    "cv.destroyAllWindows()"
   ]
  },
  {
   "cell_type": "code",
   "execution_count": null,
   "id": "a5a7e477-00f0-447a-9408-4ea725346fee",
   "metadata": {},
   "outputs": [],
   "source": []
  }
 ],
 "metadata": {
  "kernelspec": {
   "display_name": "Python 3 (ipykernel)",
   "language": "python",
   "name": "python3"
  },
  "language_info": {
   "codemirror_mode": {
    "name": "ipython",
    "version": 3
   },
   "file_extension": ".py",
   "mimetype": "text/x-python",
   "name": "python",
   "nbconvert_exporter": "python",
   "pygments_lexer": "ipython3",
   "version": "3.11.10"
  }
 },
 "nbformat": 4,
 "nbformat_minor": 5
}
