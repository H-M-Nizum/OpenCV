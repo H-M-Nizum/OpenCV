{
 "cells": [
  {
   "cell_type": "code",
   "execution_count": 2,
   "id": "0b5c6f9e-5d3d-40cc-a77f-7db0f13d7c96",
   "metadata": {},
   "outputs": [],
   "source": [
    "import cv2 as cv\n",
    "import numpy as np"
   ]
  },
  {
   "cell_type": "code",
   "execution_count": 2,
   "id": "aeca4c8e-378c-4618-a948-e36dc31e6da4",
   "metadata": {},
   "outputs": [],
   "source": [
    "# Load Image\n",
    "img = cv.imread('../Resources/Photos/lady.jpg')\n",
    "\n",
    "# Display Image\n",
    "cv.imshow('IMG', img)\n",
    "cv.waitKey(0)\n",
    "cv.destroyAllWindows()"
   ]
  },
  {
   "cell_type": "markdown",
   "id": "f9bda724-d2d3-4ad0-85de-0fd33c47005b",
   "metadata": {},
   "source": [
    "## 1. Image Translations\n",
    "\n",
    "        Translation is basically shifting an image along the X axis and Y axis.\n",
    "        SO using Translation we can shift an image up, down, left, right or with any combination of the avobe.\n",
    "\n",
    "- `-x --> Left`\n",
    "- `-y --> Up`\n",
    "- `x --> Right`\n",
    "- `y --> Down`\n"
   ]
  },
  {
   "cell_type": "code",
   "execution_count": 5,
   "id": "6d934586-a50f-4852-a1ac-3aa4ba10679e",
   "metadata": {},
   "outputs": [],
   "source": [
    "# Translations\n",
    "def translate(img, x, y):\n",
    "    transMat = np.float32([[1, 0, x], [0, 1, y]])\n",
    "    dimensions = (img.shape[1], img.shape[0])\n",
    "\n",
    "    return cv.warpAffine(img, transMat, dimensions)"
   ]
  },
  {
   "cell_type": "code",
   "execution_count": 6,
   "id": "b62158b3-fe82-424e-8d90-5359906939e4",
   "metadata": {},
   "outputs": [],
   "source": [
    "# normal image\n",
    "img = cv.imread('../Resources/Photos/lady.jpg')\n",
    "# Display Image\n",
    "cv.imshow('IMG', img)\n",
    "\n",
    "# Translated image\n",
    "translated_image = translate(img, 100, 200)\n",
    "cv.imshow('Translated Image', translated_image)\n",
    "\n",
    "\n",
    "# waitkey and distroy\n",
    "cv.waitKey(0)\n",
    "cv.destroyAllWindows()"
   ]
  },
  {
   "cell_type": "markdown",
   "id": "4ffa074f-4bcf-4ad2-909b-2a50550d3dad",
   "metadata": {},
   "source": [
    "## 2. Image Rotation\n",
    "\n",
    "    - Clockwise Rotation --> Negative angle\n",
    "    - AntyClockwise Rotation --> Positive angle"
   ]
  },
  {
   "cell_type": "code",
   "execution_count": 7,
   "id": "f63d9995-e0fb-4d89-bbea-5fe1cc6c37b4",
   "metadata": {},
   "outputs": [],
   "source": [
    "# Rotation\n",
    "def image_rotation(img, angle, rotPoint=None):\n",
    "    (height, width) = img.shape[:2]\n",
    "\n",
    "    if rotPoint is None:\n",
    "        rotPoint = (width//2, height//2)\n",
    "\n",
    "    rotMat = cv.getRotationMatrix2D(rotPoint, angle, 1.0)\n",
    "    dimension = (width, height)\n",
    "\n",
    "    return cv.warpAffine(img, rotMat, dimension)"
   ]
  },
  {
   "cell_type": "code",
   "execution_count": 10,
   "id": "cd99e66c-0a75-4ab1-bdef-37935750e846",
   "metadata": {},
   "outputs": [],
   "source": [
    "# normal image\n",
    "img = cv.imread('../Resources/Photos/lady.jpg')\n",
    "# Display Image\n",
    "cv.imshow('IMG', img)\n",
    "\n",
    "# Rotated Image\n",
    "rotated_image = image_rotation(img, 45)\n",
    "cv.imshow(\"Rotated Image\", rotated_image)\n",
    "\n",
    "rotated_image1 = image_rotation(img, -90)\n",
    "cv.imshow(\"Rotated Image1\", rotated_image1)\n",
    "\n",
    "\n",
    "# waitkey and distroy\n",
    "cv.waitKey(0)\n",
    "cv.destroyAllWindows()"
   ]
  },
  {
   "cell_type": "markdown",
   "id": "cf036f5e-e158-4c1e-9a2c-0d35263d1243",
   "metadata": {},
   "source": [
    "## 3. Image Resizing"
   ]
  },
  {
   "cell_type": "code",
   "execution_count": 11,
   "id": "e9a875eb-0b72-47fb-a18c-5f492b025af9",
   "metadata": {},
   "outputs": [],
   "source": [
    "# normal image\n",
    "img = cv.imread('../Resources/Photos/lady.jpg')\n",
    "# Display Image\n",
    "cv.imshow('IMG', img)\n",
    "\n",
    "# interpolation=cv.INTER_AREA      -->> If You are shirking the image\n",
    "# interpolation=cv.INTER_LINEAR    -->> If You are Larging the image\n",
    "# interpolation=cv.INTER_CUBIC     -->> If You are High quality the image\n",
    "# Resize image\n",
    "resize_image = cv.resize(img, (250, 300), interpolation=cv.INTER_AREA)\n",
    "cv.imshow(\"resize_image\", resize_image)\n",
    "\n",
    "# waitkey and distroy\n",
    "cv.waitKey(0)\n",
    "cv.destroyAllWindows()"
   ]
  },
  {
   "cell_type": "markdown",
   "id": "68cc7fd0-12c1-4853-a54c-a375fea10caf",
   "metadata": {},
   "source": [
    "## 4. Flipping the Image\n",
    "    \n",
    "    `cv.flip(img, flipcode)`\n",
    "\n",
    "- fipcode 0 basically implies flipping the image of vertically or over the x axis\n",
    "- fipcode 1 basically implies flipping the image of horizontally or over the y axis\n",
    "- fipcode -1 basically implies flipping the image of both vertically and horizontally or over the x and y axis"
   ]
  },
  {
   "cell_type": "code",
   "execution_count": 12,
   "id": "5252442a-bd7e-4dd3-bb73-49e68d5d7e0f",
   "metadata": {},
   "outputs": [],
   "source": [
    "# normal image\n",
    "img = cv.imread('../Resources/Photos/lady.jpg')\n",
    "# Display Image\n",
    "cv.imshow('IMG', img)\n",
    "\n",
    "flipping_image_zero = cv.flip(img, 0)\n",
    "cv.imshow('flipping image zero', flipping_image_zero)\n",
    "\n",
    "flipping_image_one = cv.flip(img, 1)\n",
    "cv.imshow('flipping image one', flipping_image_one)\n",
    "\n",
    "flipping_image_minus_one = cv.flip(img, -1)\n",
    "cv.imshow('flipping image minus one', flipping_image_minus_one)\n",
    "\n",
    "# waitkey and distroy\n",
    "cv.waitKey(0)\n",
    "cv.destroyAllWindows()"
   ]
  },
  {
   "cell_type": "markdown",
   "id": "27e3d8f7-ec3d-48be-a0a9-5e7d628f3d38",
   "metadata": {},
   "source": [
    "## 5. Cropping Image"
   ]
  },
  {
   "cell_type": "code",
   "execution_count": 15,
   "id": "ad3e009d-6783-49aa-88dc-e0409de869fe",
   "metadata": {},
   "outputs": [],
   "source": [
    "# normal image\n",
    "img = cv.imread('../Resources/Photos/lady.jpg')\n",
    "# Display Image\n",
    "cv.imshow('IMG', img)\n",
    "\n",
    "crop_image = img[100:200, 400:500]\n",
    "cv.imshow('crop_image image ', crop_image)\n",
    "\n",
    "\n",
    "# waitkey and distroy\n",
    "cv.waitKey(0)\n",
    "cv.destroyAllWindows()"
   ]
  },
  {
   "cell_type": "code",
   "execution_count": null,
   "id": "50846fe0-e940-4f92-adb9-a8ad698f26ef",
   "metadata": {},
   "outputs": [],
   "source": []
  }
 ],
 "metadata": {
  "kernelspec": {
   "display_name": "Python 3 (ipykernel)",
   "language": "python",
   "name": "python3"
  },
  "language_info": {
   "codemirror_mode": {
    "name": "ipython",
    "version": 3
   },
   "file_extension": ".py",
   "mimetype": "text/x-python",
   "name": "python",
   "nbconvert_exporter": "python",
   "pygments_lexer": "ipython3",
   "version": "3.11.10"
  }
 },
 "nbformat": 4,
 "nbformat_minor": 5
}
