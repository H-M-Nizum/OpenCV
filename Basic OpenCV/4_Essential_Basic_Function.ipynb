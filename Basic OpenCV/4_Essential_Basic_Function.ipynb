{
 "cells": [
  {
   "cell_type": "code",
   "execution_count": 2,
   "id": "d6de953c-6358-4a25-a6bd-06e83eda2196",
   "metadata": {},
   "outputs": [],
   "source": [
    "import cv2 as cv\n",
    "import numpy as np"
   ]
  },
  {
   "cell_type": "code",
   "execution_count": 3,
   "id": "00814697-95b5-48bc-a1c4-49b0197553c9",
   "metadata": {},
   "outputs": [],
   "source": [
    "img = cv.imread('../Resources/Photos/lady.jpg')\n",
    "cv.imshow('Lady', img)\n",
    "cv.waitKey(0)\n",
    "cv.destroyAllWindows()"
   ]
  },
  {
   "cell_type": "markdown",
   "id": "b5eb0876-55f2-481a-853b-807881a82662",
   "metadata": {},
   "source": [
    "## 1.Converting to grayscole"
   ]
  },
  {
   "cell_type": "code",
   "execution_count": 4,
   "id": "e55879b6-d417-4a35-acad-bfb2805c51fd",
   "metadata": {},
   "outputs": [],
   "source": [
    "# Load the image\n",
    "img = cv.imread('../Resources/Photos/lady.jpg')\n",
    "\n",
    "# Display the original image\n",
    "cv.imshow('Lady', img)\n",
    "\n",
    "# Convert the image to grayscale\n",
    "# cv.cvtColor(img, color_code)\n",
    "gray = cv.cvtColor(img, cv.COLOR_BGR2GRAY)\n",
    "\n",
    "# Display the grayscale image\n",
    "cv.imshow('Gray Lady', gray)\n",
    "cv.waitKey(0)\n",
    "cv.destroyAllWindows()\n"
   ]
  },
  {
   "cell_type": "markdown",
   "id": "2d36dc9f-a068-4bfd-b120-139d0fc993b8",
   "metadata": {},
   "source": [
    "## 2. Blur Image"
   ]
  },
  {
   "cell_type": "code",
   "execution_count": 1,
   "id": "37d79419-bc11-4b66-989b-7c86350cbb91",
   "metadata": {},
   "outputs": [],
   "source": [
    "import cv2 as cv\n",
    "# Load the image\n",
    "img1 = cv.imread('../Resources/Photos/lady.jpg')\n",
    "\n",
    "# Display the original image\n",
    "cv.imshow('Lady1', img1)\n",
    "\n",
    "# Convert the image to Blur using Gaussian Blur\n",
    "blur = cv.GaussianBlur(img1, (3, 3), 0)\n",
    "\n",
    "# Display the grayscale image\n",
    "cv.imshow('Blur Lady', blur)\n",
    "cv.waitKey(0)\n",
    "cv.destroyAllWindows()\n",
    "\n",
    "\n",
    "\n"
   ]
  },
  {
   "cell_type": "markdown",
   "id": "e3b644a9-6445-4a2d-a113-9520e37afecf",
   "metadata": {},
   "source": [
    "## 3. Edge Cascode"
   ]
  },
  {
   "cell_type": "code",
   "execution_count": 3,
   "id": "6da31b74-8e10-4547-968a-ae836dfe564b",
   "metadata": {},
   "outputs": [],
   "source": [
    "import cv2 as cv\n",
    "# Load the image\n",
    "img2 = cv.imread('../Resources/Photos/lady.jpg')\n",
    "\n",
    "# Display the original image\n",
    "cv.imshow('Lady2', img2)\n",
    "\n",
    "# Convert the image to Blur using canny\n",
    "# cv.canny(img, threshold1, threshold2)\n",
    "canny = cv.Canny(img2, 125, 175)\n",
    "\n",
    "# Display the grayscale image\n",
    "cv.imshow('canny Lady', canny)\n",
    "cv.waitKey(0)\n",
    "cv.destroyAllWindows()"
   ]
  },
  {
   "cell_type": "markdown",
   "id": "45d8a04a-7e33-4b33-b47d-0fea957d8b81",
   "metadata": {},
   "source": [
    "## 4. Dialating image"
   ]
  },
  {
   "cell_type": "code",
   "execution_count": 3,
   "id": "fd8f9936-3b7e-4e52-9eaf-0973b6a7df55",
   "metadata": {},
   "outputs": [],
   "source": [
    "import cv2 as cv\n",
    "# Load the image\n",
    "img3 = cv.imread('../Resources/Photos/lady.jpg')\n",
    "\n",
    "# Display the original image\n",
    "cv.imshow('Lady3', img3)\n",
    "\n",
    "# Convert the image to Blur using canny\n",
    "# cv.dialat(img, kernel)\n",
    "canny = cv.Canny(img3, 125, 175)\n",
    "cv.imshow('canny Lady', canny)\n",
    "\n",
    "dialat = cv.dilate(canny, (3,3), iterations=1)\n",
    "\n",
    "# Display the grayscale image\n",
    "cv.imshow('dialat Lady', dialat)\n",
    "cv.waitKey(0)\n",
    "cv.destroyAllWindows()"
   ]
  },
  {
   "cell_type": "markdown",
   "id": "67280162-de50-47f5-85e0-973bc2d58849",
   "metadata": {},
   "source": [
    "## 5. Eroding"
   ]
  },
  {
   "cell_type": "code",
   "execution_count": null,
   "id": "55be7e3d-eaf8-45f3-8c46-fcf9cd2519fe",
   "metadata": {},
   "outputs": [],
   "source": []
  },
  {
   "cell_type": "markdown",
   "id": "b7afadfd-5e37-48d0-8d85-a7ae03e7b0b7",
   "metadata": {},
   "source": [
    "## 6. Resize"
   ]
  },
  {
   "cell_type": "code",
   "execution_count": 5,
   "id": "4d8d2f7e-b13f-4b41-aaf6-6364fdc65f3c",
   "metadata": {},
   "outputs": [],
   "source": [
    "import cv2 as cv\n",
    "# Load the image\n",
    "img4 = cv.imread('../Resources/Photos/lady.jpg')\n",
    "\n",
    "# Display the original image\n",
    "cv.imshow('Lady4', img4)\n",
    "\n",
    "resize = cv.resize(img4, (250, 350))\n",
    "cv.imshow('Resize image', resize)\n",
    "\n",
    "\n",
    "cv.waitKey(0)\n",
    "cv.destroyAllWindows()"
   ]
  },
  {
   "cell_type": "markdown",
   "id": "d808b450-b0b7-4b30-8473-b94d30c6f7a9",
   "metadata": {},
   "source": [
    "## 7. Cropping"
   ]
  },
  {
   "cell_type": "code",
   "execution_count": null,
   "id": "729ae007-cbb6-466c-82cf-ff25d60cee09",
   "metadata": {},
   "outputs": [],
   "source": [
    "import cv2 as cv\n",
    "# Load the image\n",
    "img5 = cv.imread('../Resources/Photos/lady.jpg')\n",
    "\n",
    "# Display the original image\n",
    "cv.imshow('Lady5', img5)\n",
    "\n",
    "cropp = img5[]\n",
    "cv.imshow('Resize image', resize)\n",
    "\n",
    "\n",
    "cv.waitKey(0)\n",
    "cv.destroyAllWindows()"
   ]
  },
  {
   "cell_type": "code",
   "execution_count": null,
   "id": "c0bc4e38-94bb-471a-9b9c-0ab9ff8a1bd8",
   "metadata": {},
   "outputs": [],
   "source": []
  },
  {
   "cell_type": "code",
   "execution_count": 4,
   "id": "45edbb27-4a38-4497-8e31-7ee3db121746",
   "metadata": {},
   "outputs": [
    {
     "name": "stdout",
     "output_type": "stream",
     "text": [
      "[{'name': '102', 'qty': 6}, {'name': '103', 'qty': 4}, {'name': '105', 'qty': 2}, {'name': '107', 'qty': 5}]\n"
     ]
    }
   ],
   "source": [
    "list_data = [{'name':'101', 'qty':0}, {'name':'102', 'qty':3}, {'name':'103', 'qty':2}, {'name':'104', 'qty':0}, {'name':'105', 'qty':2}, {'name':'106', 'qty':0}, {'name':'107', 'qty':5}]\n",
    "data = [{'name':'102', 'qty':3}, {'name':'103', 'qty':2}]\n",
    "\n",
    "for i in list_data:\n",
    "    tem = 0\n",
    "    if i['qty'] > 0:\n",
    "        for j in data:\n",
    "            if i['name'] == j['name']:\n",
    "                j['qty'] += i['qty']\n",
    "                tem = 1\n",
    "                break\n",
    "        if tem == 0:\n",
    "            data.append(i)\n",
    "print(data)\n"
   ]
  },
  {
   "cell_type": "code",
   "execution_count": null,
   "id": "3a19d0c9-3d25-4c35-a9a7-3ecd28cfad02",
   "metadata": {},
   "outputs": [],
   "source": []
  }
 ],
 "metadata": {
  "kernelspec": {
   "display_name": "Python 3 (ipykernel)",
   "language": "python",
   "name": "python3"
  },
  "language_info": {
   "codemirror_mode": {
    "name": "ipython",
    "version": 3
   },
   "file_extension": ".py",
   "mimetype": "text/x-python",
   "name": "python",
   "nbconvert_exporter": "python",
   "pygments_lexer": "ipython3",
   "version": "3.11.10"
  }
 },
 "nbformat": 4,
 "nbformat_minor": 5
}
