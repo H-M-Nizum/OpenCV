{
 "cells": [
  {
   "cell_type": "markdown",
   "id": "c9ad6c53-2e10-464b-8b74-701f7f23cfa5",
   "metadata": {},
   "source": [
    "## Contour Detection\n",
    "    Contours are basically the boundaries of objects, the line or cruve that join the"
   ]
  },
  {
   "cell_type": "code",
   "execution_count": 1,
   "id": "54240591-f38f-411e-82d5-64e49c801ab0",
   "metadata": {},
   "outputs": [],
   "source": [
    "import cv2 as cv\n",
    "import numpy as np"
   ]
  },
  {
   "cell_type": "code",
   "execution_count": 11,
   "id": "1a9f8d3c-6366-45b8-9b13-61c367991313",
   "metadata": {},
   "outputs": [
    {
     "name": "stdout",
     "output_type": "stream",
     "text": [
      "176\n"
     ]
    }
   ],
   "source": [
    "img = cv.imread('../Resources/Photos/lady.jpg')\n",
    "cv.imshow('Image', img)\n",
    "\n",
    "# Gray scale\n",
    "gray = cv.cvtColor(img, cv.COLOR_BGR2GRAY)\n",
    "cv.imshow('Gray', gray)\n",
    "\n",
    "#Canny image\n",
    "canny = cv.Canny(img, 125, 175)\n",
    "cv.imshow('cany', canny)\n",
    "#Canny Gray image\n",
    "canny_gray = cv.Canny(gray, 125, 175)\n",
    "#cv.imshow('canny_gray', canny_gray)\n",
    "\n",
    "# ---------------------------------------------------------------------------\n",
    "# cv.RETR_TREE --> for hierarchical contours\n",
    "# cv.RETR_EXTERNAL --> for External contours\n",
    "# cv.RETR_LIST --> for All the contours\n",
    "contours, hierarchies = cv.findContours(canny, cv.RETR_LIST, cv.CHAIN_APPROX_SIMPLE)\n",
    "#contours1, hierarchies1 = cv.findContours(canny_gray, cv.RETR_LIST, cv.CHAIN_APPROX_SIMPLE)\n",
    "print(len(contours))\n",
    "#print(len(contours1))\n",
    "\n",
    "# --------------------------------------------------------------------------------------\n",
    "# Draw a blank page using contours\n",
    "# create a blank img\n",
    "blank = np.zeros((img.shape[0], img.shape[1], 3), dtype='uint8')\n",
    "cv.imshow('Blank', blank)\n",
    "\n",
    "\n",
    "\n",
    "#-----------------------------------------------------------------------------------------\n",
    "# Draw contours\n",
    "# cv.drawContours(image, contours, contourIdx, color, thickness)\n",
    "cv.drawContours(blank, contours, -1, (0,0,255), 1)\n",
    "cv.imshow('Contours Drawn', blank)\n",
    "\n",
    "\n",
    "cv.waitKey(0)\n",
    "cv.destroyAllWindows()"
   ]
  },
  {
   "cell_type": "code",
   "execution_count": null,
   "id": "3e8f41c5-856f-4c43-b39f-42e7dcc6be12",
   "metadata": {},
   "outputs": [],
   "source": []
  }
 ],
 "metadata": {
  "kernelspec": {
   "display_name": "Python 3 (ipykernel)",
   "language": "python",
   "name": "python3"
  },
  "language_info": {
   "codemirror_mode": {
    "name": "ipython",
    "version": 3
   },
   "file_extension": ".py",
   "mimetype": "text/x-python",
   "name": "python",
   "nbconvert_exporter": "python",
   "pygments_lexer": "ipython3",
   "version": "3.11.10"
  }
 },
 "nbformat": 4,
 "nbformat_minor": 5
}
