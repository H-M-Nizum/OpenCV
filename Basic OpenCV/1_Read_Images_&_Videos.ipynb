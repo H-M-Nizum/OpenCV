{
 "cells": [
  {
   "cell_type": "markdown",
   "id": "753c706d-fd75-46d1-a3b6-1f9bf253feec",
   "metadata": {},
   "source": [
    "## Read a single image"
   ]
  },
  {
   "cell_type": "code",
   "execution_count": 4,
   "id": "75dff143-b1f4-4e78-a9d6-8dd002d4694f",
   "metadata": {},
   "outputs": [
    {
     "data": {
      "text/plain": [
       "-1"
      ]
     },
     "execution_count": 4,
     "metadata": {},
     "output_type": "execute_result"
    }
   ],
   "source": [
    "import cv2 as cv\n",
    "\n",
    "img = cv.imread('../Resources/Photos/cat.jpg')\n",
    "cv.imshow('Cat', img)\n",
    "\n",
    "cv.waitKey(0) # Keybord Binding Function\n",
    "# It wait for a specific delay or time in milliseconds for a key to be pressed.\n",
    "# So if you pass in Zero, it basically wait for an infinite amount of time for a keybord key to the pressed"
   ]
  },
  {
   "cell_type": "markdown",
   "id": "73472553-0ba5-4968-9054-b6dc6a98eb1b",
   "metadata": {},
   "source": [
    "## Read a Single Video"
   ]
  },
  {
   "cell_type": "code",
   "execution_count": 15,
   "id": "958d5096-c027-4427-a039-8f12d4602da2",
   "metadata": {},
   "outputs": [],
   "source": [
    "import cv2 as cv\n",
    "capture = cv.VideoCapture('../Resources/Videos/dog.mp4')\n",
    "\n",
    "while True:\n",
    "    isTrue, frame = capture.read()\n",
    "    \n",
    "    # if cv.waitKey(20) & 0xFF==ord('d'):\n",
    "    # This is the preferred way - if `isTrue` is false (the frame could  not be read, or we're at the end of the video), \n",
    "    # we immediately break from the loop. \n",
    "    if isTrue:    \n",
    "        cv.imshow('Video', frame)\n",
    "        if cv.waitKey(20) & 0xFF==ord('d'):\n",
    "            break            \n",
    "    else:\n",
    "        break\n",
    "\n",
    "capture.release()\n",
    "cv.destroyAllWindows()\n",
    "\n"
   ]
  },
  {
   "cell_type": "code",
   "execution_count": null,
   "id": "c8c3bc6c-29e2-4b15-a555-595e1354ff39",
   "metadata": {},
   "outputs": [],
   "source": []
  }
 ],
 "metadata": {
  "kernelspec": {
   "display_name": "Python 3 (ipykernel)",
   "language": "python",
   "name": "python3"
  },
  "language_info": {
   "codemirror_mode": {
    "name": "ipython",
    "version": 3
   },
   "file_extension": ".py",
   "mimetype": "text/x-python",
   "name": "python",
   "nbconvert_exporter": "python",
   "pygments_lexer": "ipython3",
   "version": "3.11.10"
  }
 },
 "nbformat": 4,
 "nbformat_minor": 5
}
