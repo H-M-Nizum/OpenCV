{
 "cells": [
  {
   "cell_type": "code",
   "execution_count": 1,
   "id": "6166e3f9-83a3-46be-9728-a7421c28d293",
   "metadata": {},
   "outputs": [],
   "source": [
    "import cv2 as cv\n",
    "import numpy as np"
   ]
  },
  {
   "cell_type": "code",
   "execution_count": 3,
   "id": "45ee1659-312c-4cdd-9f79-1b878781851a",
   "metadata": {},
   "outputs": [
    {
     "data": {
      "text/plain": [
       "-1"
      ]
     },
     "execution_count": 3,
     "metadata": {},
     "output_type": "execute_result"
    }
   ],
   "source": [
    "img = cv.imread('../Resources/Photos/lady.jpg')\n",
    "cv.imshow('Lady', img)\n",
    "cv.waitKey(0)"
   ]
  },
  {
   "cell_type": "markdown",
   "id": "d61be05d-bf5b-44ef-bcb4-36df14f9b133",
   "metadata": {},
   "source": [
    "## 1. Create a Blank img"
   ]
  },
  {
   "cell_type": "code",
   "execution_count": 25,
   "id": "cbaa8747-f86d-4065-a2b5-3aa149f523ff",
   "metadata": {},
   "outputs": [],
   "source": [
    "blank = np.zeros((500, 500, 3), dtype='uint8')\n",
    "cv.imshow('Blank', blank)\n",
    "cv.waitKey(0)\n",
    "cv.destroyAllWindows()"
   ]
  },
  {
   "cell_type": "markdown",
   "id": "8e450d8a-d538-4a2b-84f5-612d0b49196c",
   "metadata": {},
   "source": [
    "## 2. Paint the image a certain color"
   ]
  },
  {
   "cell_type": "code",
   "execution_count": 29,
   "id": "6ca16f40-ba83-4622-be16-3c5c42546b83",
   "metadata": {},
   "outputs": [],
   "source": [
    "# Green Image\n",
    "blank[:] = 0, 255, 0\n",
    "cv.imshow('Green Blank', blank)\n",
    "# red Image\n",
    "blank1 = np.zeros((500, 500, 3), dtype='uint8')\n",
    "blank1[:] = 0, 0, 255\n",
    "cv.imshow('Red Blank', blank1)\n",
    "cv.waitKey(0)\n",
    "cv.destroyAllWindows()"
   ]
  },
  {
   "cell_type": "markdown",
   "id": "869acf10-4a66-40c6-81ec-c0b3631f87c0",
   "metadata": {},
   "source": [
    "## 3. Paint the image a certain color range of pixel"
   ]
  },
  {
   "cell_type": "code",
   "execution_count": 28,
   "id": "680b5d2d-5763-4cef-aa71-eb08906449e2",
   "metadata": {},
   "outputs": [],
   "source": [
    "blank2 = np.zeros((500, 500, 3), dtype='uint8')\n",
    "blank2[100:200, 300:400] = 0, 255, 0  # OpenCV uses BGR format\n",
    "\n",
    "# Display the image\n",
    "cv.imshow('Red Rectangle', blank2)\n",
    "cv.waitKey(0)\n",
    "cv.destroyAllWindows()"
   ]
  },
  {
   "cell_type": "markdown",
   "id": "1b47f290-cfbd-486b-a474-5e30b0361748",
   "metadata": {},
   "source": [
    "## 4. Draw a Ractangle"
   ]
  },
  {
   "cell_type": "code",
   "execution_count": 27,
   "id": "8afdd1c8-f5ac-4862-a416-c8b1dfe9e5a4",
   "metadata": {},
   "outputs": [],
   "source": [
    "# rectangle(img, plt1, plt2, color, thickness)\n",
    "blank3 = np.zeros((500, 500, 3), dtype='uint8')\n",
    "cv.rectangle(blank3, (10, 10), (200, 200), (0, 255, 0), thickness=2)\n",
    "\n",
    "# Display the image\n",
    "cv.imshow('Rectangle Image', blank3)\n",
    "cv.waitKey(0)\n",
    "cv.destroyAllWindows()"
   ]
  },
  {
   "cell_type": "code",
   "execution_count": 32,
   "id": "dfec94b6-03b3-4123-8892-5fba186c08b4",
   "metadata": {},
   "outputs": [],
   "source": [
    "# Fill Ractangle in color\n",
    "blank4 = np.zeros((500, 500, 3), dtype='uint8')\n",
    "cv.rectangle(blank4, (0, 0), (200, 500), (0, 255, 0), thickness=-1)\n",
    "\n",
    "# Display the image\n",
    "cv.imshow('Rectangle Image', blank4)\n",
    "cv.waitKey(0)\n",
    "cv.destroyAllWindows()"
   ]
  },
  {
   "cell_type": "markdown",
   "id": "ffc8ff34-7605-4490-9ce9-513fb4e62cf7",
   "metadata": {},
   "source": [
    "## 5. Draw a circle"
   ]
  },
  {
   "cell_type": "code",
   "execution_count": 33,
   "id": "b19db587-3f0a-4a43-93b2-32105bd6e1c6",
   "metadata": {},
   "outputs": [],
   "source": [
    "blank5 = np.zeros((500, 500, 3), dtype='uint8')\n",
    "# cv.circle(img, center, radius, color, thickness)\n",
    "cv.circle(blank5, (250, 250), 100, (0, 0, 250), thickness=2)\n",
    "\n",
    "# Display the image\n",
    "cv.imshow('Circle Image', blank5)\n",
    "cv.waitKey(0)\n",
    "cv.destroyAllWindows()"
   ]
  },
  {
   "cell_type": "markdown",
   "id": "25ab2945-6fb6-4a91-84f7-7cc1ed21b2f2",
   "metadata": {},
   "source": [
    "## 6.Draw a line"
   ]
  },
  {
   "cell_type": "code",
   "execution_count": 39,
   "id": "3d11824c-3e2b-41fe-ad62-03fe2e1e3a5f",
   "metadata": {},
   "outputs": [],
   "source": [
    "blank6 = np.zeros((500, 500, 3), dtype='uint8')\n",
    "# cv.line(img, plt1, plt2, color, thickness)\n",
    "cv.line(blank6, (250, 100), (250, 400), (0, 255, 0), thickness=3)\n",
    "\n",
    "# Display the image\n",
    "cv.imshow('Draw line', blank6)\n",
    "cv.waitKey(0)\n",
    "cv.destroyAllWindows()"
   ]
  },
  {
   "cell_type": "markdown",
   "id": "01f7deee-bc79-4eb9-a20c-beb05bc337e6",
   "metadata": {},
   "source": [
    "## 7. Write text on an image"
   ]
  },
  {
   "cell_type": "code",
   "execution_count": 41,
   "id": "e7f94d6c-ca04-4a91-9eaf-04ea0b7f2d31",
   "metadata": {},
   "outputs": [],
   "source": [
    "blank7 = np.zeros((500, 500, 3), dtype='uint8')\n",
    "\n",
    "# cv.putText(img, text, org, fontface, fontscale, color, thickness)\n",
    "cv.putText(blank7, 'Python OpenCV', (100, 250), cv.FONT_HERSHEY_COMPLEX, 1.0, (0, 0, 255), thickness=2)\n",
    "\n",
    "# Display the image\n",
    "cv.imshow('Wrrite Text', blank7)\n",
    "cv.waitKey(0)\n",
    "cv.destroyAllWindows()"
   ]
  },
  {
   "cell_type": "code",
   "execution_count": null,
   "id": "6ec7a321-2f32-4aa5-a4df-6caac16fdc67",
   "metadata": {},
   "outputs": [],
   "source": []
  }
 ],
 "metadata": {
  "kernelspec": {
   "display_name": "Python 3 (ipykernel)",
   "language": "python",
   "name": "python3"
  },
  "language_info": {
   "codemirror_mode": {
    "name": "ipython",
    "version": 3
   },
   "file_extension": ".py",
   "mimetype": "text/x-python",
   "name": "python",
   "nbconvert_exporter": "python",
   "pygments_lexer": "ipython3",
   "version": "3.11.10"
  }
 },
 "nbformat": 4,
 "nbformat_minor": 5
}
